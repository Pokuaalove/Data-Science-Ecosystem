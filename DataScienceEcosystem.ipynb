{
 "cells": [
  {
   "cell_type": "markdown",
   "id": "42397fa8",
   "metadata": {},
   "source": [
    "# Data Science Tools and Ecosystem"
   ]
  },
  {
   "cell_type": "markdown",
   "id": "77e194cd",
   "metadata": {},
   "source": [
    "In this Notebook, Data Science Tools and Ecosystem are summarized."
   ]
  },
  {
   "cell_type": "markdown",
   "id": "e8e79fdb",
   "metadata": {},
   "source": [
    "**Objectives**\n",
    "- List popular languages for Data Science\n",
    "- List commonly used libraries for Data Science\n",
    "- List Data Science Tools\n",
    "- Evaluate Arithmetic Expressions"
   ]
  },
  {
   "cell_type": "markdown",
   "id": "633fb861",
   "metadata": {},
   "source": [
    "Some of the popular languages that Data Scientists use are:\n",
    "***\n",
    "    1. Python\n",
    "    2. Scala\n",
    "    3. R\n",
    "    4. C++\n",
    "    5. Java\n",
    "***"
   ]
  },
  {
   "cell_type": "markdown",
   "id": "a54cf254",
   "metadata": {},
   "source": [
    "Some of the commonly used libraries used by Data Scientists include:\n",
    "***\n",
    "1. Pandas\n",
    "2. Numpy\n",
    "3. Matplotlib\n",
    "***"
   ]
  },
  {
   "cell_type": "markdown",
   "id": "cee0a20e",
   "metadata": {},
   "source": [
    "|Data Science Tools|\n",
    "|----|\n",
    "|Jupyter|\n",
    "|Jupyterlab|\n",
    "|R Studio|\n",
    "|Apache Spark|"
   ]
  },
  {
   "cell_type": "markdown",
   "id": "60f8fa75",
   "metadata": {},
   "source": [
    "### Below are a few examples of evaluating arithmetic expressions in Python"
   ]
  },
  {
   "cell_type": "code",
   "execution_count": 4,
   "id": "c34f016a",
   "metadata": {},
   "outputs": [
    {
     "data": {
      "text/plain": [
       "17"
      ]
     },
     "execution_count": 4,
     "metadata": {},
     "output_type": "execute_result"
    }
   ],
   "source": [
    "(3*4)+5"
   ]
  },
  {
   "cell_type": "code",
   "execution_count": 16,
   "id": "ac09e706",
   "metadata": {},
   "outputs": [
    {
     "name": "stdout",
     "output_type": "stream",
     "text": [
      "3.3333333333333335\n"
     ]
    }
   ],
   "source": [
    "# This will convert 200 minutes to hours by dividing by 60\n",
    "mins_convert = 200\n",
    "mins_per_hour = 60\n",
    "mins_to_hour =(mins_convert / mins_per_hour)\n",
    "print(mins_to_hour)"
   ]
  },
  {
   "cell_type": "markdown",
   "id": "e420fd7a",
   "metadata": {},
   "source": [
    "## Author\n",
    "Anastasia Peprah"
   ]
  }
 ],
 "metadata": {
  "kernelspec": {
   "display_name": "Python 3 (ipykernel)",
   "language": "python",
   "name": "python3"
  },
  "language_info": {
   "codemirror_mode": {
    "name": "ipython",
    "version": 3
   },
   "file_extension": ".py",
   "mimetype": "text/x-python",
   "name": "python",
   "nbconvert_exporter": "python",
   "pygments_lexer": "ipython3",
   "version": "3.10.12"
  }
 },
 "nbformat": 4,
 "nbformat_minor": 5
}
